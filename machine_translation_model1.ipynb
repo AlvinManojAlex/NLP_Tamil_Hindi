{
  "nbformat": 4,
  "nbformat_minor": 0,
  "metadata": {
    "colab": {
      "provenance": [],
      "mount_file_id": "1JHuZiOcqLy-O3-FdlT1-x82W5iyC8P01",
      "authorship_tag": "ABX9TyOMfejpiPVh4wmLXrZ8U9cn",
      "include_colab_link": true
    },
    "kernelspec": {
      "name": "python3",
      "display_name": "Python 3"
    },
    "language_info": {
      "name": "python"
    }
  },
  "cells": [
    {
      "cell_type": "markdown",
      "metadata": {
        "id": "view-in-github",
        "colab_type": "text"
      },
      "source": [
        "<a href=\"https://colab.research.google.com/github/AlvinManojAlex/NLP_Tamil_Hindi/blob/main/machine_translation_model1.ipynb\" target=\"_parent\"><img src=\"https://colab.research.google.com/assets/colab-badge.svg\" alt=\"Open In Colab\"/></a>"
      ]
    },
    {
      "cell_type": "markdown",
      "source": [
        "# 1. Reading datasets collected"
      ],
      "metadata": {
        "id": "hxLuzo7xCMDU"
      }
    },
    {
      "cell_type": "markdown",
      "source": [
        "## 1.1 Reading the Hindi-English Parallel Corpus"
      ],
      "metadata": {
        "id": "mM5Y423i30Tp"
      }
    },
    {
      "cell_type": "code",
      "source": [
        "train_en_hi = []\n",
        "train_hi_hi = []\n",
        "\n",
        "with open('/content/drive/MyDrive/corpus/train/iitb_train.en.txt', 'r') as file:\n",
        "  for line in file:\n",
        "\n",
        "    # Appending the stripped english sentences into the list\n",
        "    train_en_hi.append(line.strip())\n",
        "\n",
        "with open('/content/drive/MyDrive/corpus/train/iitb_train.hi.txt', 'r') as file:\n",
        "  for line in file:\n",
        "    \n",
        "    # Appending the stripped hindi sentences into the list\n",
        "    train_hi_hi.append(line.strip())\n",
        "\n",
        "\n",
        "print(f'{len(train_en_hi)} english lines read from IITB_English_Hindi Corpus')\n",
        "print(f'{len(train_hi_hi)} hindi lines read from IITB_English_Hindi Corpus')"
      ],
      "metadata": {
        "colab": {
          "base_uri": "https://localhost:8080/"
        },
        "id": "sbCHbDF_gsNe",
        "outputId": "ed8fcc80-0f77-496e-f3c8-b6ca41ecc929"
      },
      "execution_count": 7,
      "outputs": [
        {
          "output_type": "stream",
          "name": "stdout",
          "text": [
            "1603080 english lines read from IITB_English_Hindi Corpus\n",
            "1603080 hindi lines read from IITB_English_Hindi Corpus\n"
          ]
        }
      ]
    },
    {
      "cell_type": "markdown",
      "source": [
        "## 1.2 Reading the Tamil-English Parallel corpus"
      ],
      "metadata": {
        "id": "9TgR1W3x3rSC"
      }
    },
    {
      "cell_type": "code",
      "source": [
        "train_en_ta = []\n",
        "train_ta_ta = []\n",
        "\n",
        "with open('/content/drive/MyDrive/corpus/train/cvit_train.en.txt', 'r') as file:\n",
        "  for line in file:\n",
        "\n",
        "    # Appending the stripped english sentences into the list\n",
        "    train_en_ta.append(line.strip())\n",
        "\n",
        "with open('/content/drive/MyDrive/corpus/train/cvit_train.ta.txt', 'r') as file:\n",
        "  for line in file:\n",
        "\n",
        "    # Appending the stripped tamil sentences into the list\n",
        "    train_ta_ta.append(line.strip())\n",
        "\n",
        "print(f'{len(train_en_ta)} english lines read from PIB_English_Tamil Corpus')\n",
        "print(f'{len(train_ta_ta)} tamil lines read from PIB_English_Tamil Corpus')"
      ],
      "metadata": {
        "colab": {
          "base_uri": "https://localhost:8080/"
        },
        "id": "ATHKIYyHgWEN",
        "outputId": "2f21ed8f-9e64-4d4b-cf90-87b8afe03992"
      },
      "execution_count": 10,
      "outputs": [
        {
          "output_type": "stream",
          "name": "stdout",
          "text": [
            "115968 english lines read from PIB_English_Tamil Corpus\n",
            "115968 tamil lines read from PIB_English_Tamil Corpus\n"
          ]
        }
      ]
    },
    {
      "cell_type": "markdown",
      "source": [
        "# 2. Data preprocessing"
      ],
      "metadata": {
        "id": "Lq7Ff8nwhVR_"
      }
    },
    {
      "cell_type": "markdown",
      "source": [
        "Workflow for pre-processing:    \n",
        "\n",
        "<strong>Normalization</strong>: Lowercasing and removing punctuations.\n",
        "\n",
        "\n",
        "<strong>Corrections</strong>: Some Hindi sentences contain some words in brackets (indicating the english word which is used more often than the hindi word for it). We will remove those words from the brackets.\n",
        "\n",
        "\n",
        "<strong>Tokenisation</strong>: Splitting each sentence into words. "
      ],
      "metadata": {
        "id": "wK1VP-0dcgiE"
      }
    },
    {
      "cell_type": "code",
      "source": [],
      "metadata": {
        "id": "rxopar2mhXZx"
      },
      "execution_count": null,
      "outputs": []
    },
    {
      "cell_type": "markdown",
      "source": [
        "# 3. Making the Model"
      ],
      "metadata": {
        "id": "65Cbssq9h0pu"
      }
    },
    {
      "cell_type": "code",
      "source": [],
      "metadata": {
        "id": "dixRhuCoh2AL"
      },
      "execution_count": null,
      "outputs": []
    },
    {
      "cell_type": "markdown",
      "source": [
        "# 4. Training the Model"
      ],
      "metadata": {
        "id": "tf61Xtgsh460"
      }
    },
    {
      "cell_type": "code",
      "source": [],
      "metadata": {
        "id": "yk6lXiyYh6qG"
      },
      "execution_count": null,
      "outputs": []
    },
    {
      "cell_type": "markdown",
      "source": [
        "# 5. Evaluating accuracy"
      ],
      "metadata": {
        "id": "EFw0qK8hh7kk"
      }
    },
    {
      "cell_type": "code",
      "source": [],
      "metadata": {
        "id": "nWjxSU3qiT_D"
      },
      "execution_count": null,
      "outputs": []
    }
  ]
}