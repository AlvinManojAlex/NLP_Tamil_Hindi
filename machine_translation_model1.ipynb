{
  "nbformat": 4,
  "nbformat_minor": 0,
  "metadata": {
    "colab": {
      "provenance": [],
      "include_colab_link": true
    },
    "kernelspec": {
      "name": "python3",
      "display_name": "Python 3"
    },
    "language_info": {
      "name": "python"
    }
  },
  "cells": [
    {
      "cell_type": "markdown",
      "metadata": {
        "id": "view-in-github",
        "colab_type": "text"
      },
      "source": [
        "<a href=\"https://colab.research.google.com/github/AlvinManojAlex/NLP_Tamil_Hindi/blob/main/machine_translation_model1.ipynb\" target=\"_parent\"><img src=\"https://colab.research.google.com/assets/colab-badge.svg\" alt=\"Open In Colab\"/></a>"
      ]
    },
    {
      "cell_type": "code",
      "source": [
        "# Mounting the GDrive\n",
        "\n",
        "from google.colab import drive\n",
        "drive.mount('/content/drive')"
      ],
      "metadata": {
        "colab": {
          "base_uri": "https://localhost:8080/"
        },
        "id": "e3iJEHnlZOM7",
        "outputId": "85f395ae-a323-4d4a-c8d7-26e64c965604"
      },
      "execution_count": 1,
      "outputs": [
        {
          "output_type": "stream",
          "name": "stdout",
          "text": [
            "Mounted at /content/drive\n"
          ]
        }
      ]
    },
    {
      "cell_type": "markdown",
      "source": [
        "# 1. Reading datasets collected"
      ],
      "metadata": {
        "id": "hxLuzo7xCMDU"
      }
    },
    {
      "cell_type": "markdown",
      "source": [
        "## 1.1 Reading the Hindi-English Parallel Corpus"
      ],
      "metadata": {
        "id": "mM5Y423i30Tp"
      }
    },
    {
      "cell_type": "code",
      "source": [
        "train_en_hi = []\n",
        "train_hi_hi = []\n",
        "\n",
        "with open('/content/drive/MyDrive/corpus/train/iitb_train.en.txt', 'r') as file:\n",
        "  for line in file:\n",
        "\n",
        "    # Appending the stripped english sentences into the list\n",
        "    train_en_hi.append(line.strip())\n",
        "\n",
        "with open('/content/drive/MyDrive/corpus/train/iitb_train.hi.txt', 'r') as file:\n",
        "  for line in file:\n",
        "    \n",
        "    # Appending the stripped hindi sentences into the list\n",
        "    train_hi_hi.append(line.strip())\n",
        "\n",
        "\n",
        "print(f'{len(train_en_hi)} english lines read from IITB_English_Hindi Corpus')\n",
        "print(f'{len(train_hi_hi)} hindi lines read from IITB_English_Hindi Corpus')"
      ],
      "metadata": {
        "colab": {
          "base_uri": "https://localhost:8080/"
        },
        "id": "sbCHbDF_gsNe",
        "outputId": "8cdb373b-329d-4104-aa95-0a36fd0050f8"
      },
      "execution_count": 2,
      "outputs": [
        {
          "output_type": "stream",
          "name": "stdout",
          "text": [
            "1603080 english lines read from IITB_English_Hindi Corpus\n",
            "1603080 hindi lines read from IITB_English_Hindi Corpus\n"
          ]
        }
      ]
    },
    {
      "cell_type": "markdown",
      "source": [
        "## 1.2 Reading the Tamil-English Parallel corpus"
      ],
      "metadata": {
        "id": "9TgR1W3x3rSC"
      }
    },
    {
      "cell_type": "code",
      "source": [
        "train_en_ta = []\n",
        "train_ta_ta = []\n",
        "\n",
        "with open('/content/drive/MyDrive/corpus/train/cvit_train.en.txt', 'r') as file:\n",
        "  for line in file:\n",
        "\n",
        "    # Appending the stripped english sentences into the list\n",
        "    train_en_ta.append(line.strip())\n",
        "\n",
        "with open('/content/drive/MyDrive/corpus/train/cvit_train.ta.txt', 'r') as file:\n",
        "  for line in file:\n",
        "\n",
        "    # Appending the stripped tamil sentences into the list\n",
        "    train_ta_ta.append(line.strip())\n",
        "\n",
        "print(f'{len(train_en_ta)} english lines read from PIB_English_Tamil Corpus')\n",
        "print(f'{len(train_ta_ta)} tamil lines read from PIB_English_Tamil Corpus')"
      ],
      "metadata": {
        "colab": {
          "base_uri": "https://localhost:8080/"
        },
        "id": "ATHKIYyHgWEN",
        "outputId": "5cb54ec0-b135-4ce5-89e8-5d41f8e4e7e5"
      },
      "execution_count": 4,
      "outputs": [
        {
          "output_type": "stream",
          "name": "stdout",
          "text": [
            "115968 english lines read from PIB_English_Tamil Corpus\n",
            "115968 tamil lines read from PIB_English_Tamil Corpus\n"
          ]
        }
      ]
    },
    {
      "cell_type": "markdown",
      "source": [
        "# 2. Data preprocessing"
      ],
      "metadata": {
        "id": "Lq7Ff8nwhVR_"
      }
    },
    {
      "cell_type": "markdown",
      "source": [
        "Installing `tensorflow` and `einops` (Einstein Inspired Notation)"
      ],
      "metadata": {
        "id": "iRlRJt8TheGk"
      }
    },
    {
      "cell_type": "code",
      "source": [
        "# Tensorflow package for text related operations and modules\n",
        "!pip install tensorflow-text\n",
        "\n",
        "# Installing einops for writing deep learning code better and more efficiently\n",
        "!pip install einops"
      ],
      "metadata": {
        "id": "1d6iiKhhhdat"
      },
      "execution_count": null,
      "outputs": []
    },
    {
      "cell_type": "markdown",
      "source": [
        "Importing the packages"
      ],
      "metadata": {
        "id": "TzqlrJ9Nifxs"
      }
    },
    {
      "cell_type": "code",
      "source": [
        "import numpy as np\n",
        "\n",
        "import einops\n",
        "import matplotlib.pyplot as plt\n",
        "import matplotlib.ticker as ticker\n",
        "\n",
        "import tensorflow as tf\n",
        "import tensorflow_text as tf_text"
      ],
      "metadata": {
        "id": "DtQEe-yiihmc"
      },
      "execution_count": 14,
      "outputs": []
    },
    {
      "cell_type": "markdown",
      "source": [
        "Every sentence should be treated as a `tf.string`"
      ],
      "metadata": {
        "id": "BMINoCNFkLuV"
      }
    },
    {
      "cell_type": "code",
      "source": [
        "example_hi = tf.constant(train_hi_hi[1])\n",
        "print(example_hi.numpy())\n",
        "print(tf_text.normalize_utf8(example_hi, 'NFKC').numpy())"
      ],
      "metadata": {
        "id": "rxopar2mhXZx",
        "colab": {
          "base_uri": "https://localhost:8080/"
        },
        "outputId": "9b388f18-0cd9-4a9e-8a0b-cfd3bd577554"
      },
      "execution_count": 19,
      "outputs": [
        {
          "output_type": "stream",
          "name": "stdout",
          "text": [
            "b'\\xe0\\xa4\\x8f\\xe0\\xa4\\x95\\xe0\\xa5\\x8d\\xe0\\xa4\\xb8\\xe0\\xa5\\x87\\xe0\\xa4\\xb0\\xe0\\xa5\\x8d\\xe0\\xa4\\xb8\\xe0\\xa4\\xbe\\xe0\\xa4\\x87\\xe0\\xa4\\xb8\\xe0\\xa4\\xb0 \\xe0\\xa4\\xaa\\xe0\\xa4\\xb9\\xe0\\xa5\\x81\\xe0\\xa4\\x82\\xe0\\xa4\\x9a\\xe0\\xa4\\xa8\\xe0\\xa5\\x80\\xe0\\xa4\\xaf\\xe0\\xa4\\xa4\\xe0\\xa4\\xbe \\xe0\\xa4\\x85\\xe0\\xa4\\xa8\\xe0\\xa5\\x8d\\xe0\\xa4\\xb5\\xe0\\xa5\\x87\\xe0\\xa4\\xb7\\xe0\\xa4\\x95'\n",
            "b'\\xe0\\xa4\\x8f\\xe0\\xa4\\x95\\xe0\\xa5\\x8d\\xe0\\xa4\\xb8\\xe0\\xa5\\x87\\xe0\\xa4\\xb0\\xe0\\xa5\\x8d\\xe0\\xa4\\xb8\\xe0\\xa4\\xbe\\xe0\\xa4\\x87\\xe0\\xa4\\xb8\\xe0\\xa4\\xb0 \\xe0\\xa4\\xaa\\xe0\\xa4\\xb9\\xe0\\xa5\\x81\\xe0\\xa4\\x82\\xe0\\xa4\\x9a\\xe0\\xa4\\xa8\\xe0\\xa5\\x80\\xe0\\xa4\\xaf\\xe0\\xa4\\xa4\\xe0\\xa4\\xbe \\xe0\\xa4\\x85\\xe0\\xa4\\xa8\\xe0\\xa5\\x8d\\xe0\\xa4\\xb5\\xe0\\xa5\\x87\\xe0\\xa4\\xb7\\xe0\\xa4\\x95'\n"
          ]
        }
      ]
    },
    {
      "cell_type": "markdown",
      "source": [
        "## 2.1. Normalizing the sentences\n",
        "\n",
        "Converting all the sentences to lowercase to eliminate ambiguity.\n",
        "\n",
        "Replacing all special characters except `.`, `,`, `?` and `!`\n",
        "\n",
        "P.S. Initially training the model without removing the bracketed words from the hindi corpus"
      ],
      "metadata": {
        "id": "wK1VP-0dcgiE"
      }
    },
    {
      "cell_type": "markdown",
      "source": [
        "Check about Unicode Normalization forms at https://unicode.org/reports/tr15/"
      ],
      "metadata": {
        "id": "wY6yIjzmmi1-"
      }
    },
    {
      "cell_type": "markdown",
      "source": [
        "# 3. Making the Model"
      ],
      "metadata": {
        "id": "65Cbssq9h0pu"
      }
    },
    {
      "cell_type": "code",
      "source": [],
      "metadata": {
        "id": "dixRhuCoh2AL"
      },
      "execution_count": null,
      "outputs": []
    },
    {
      "cell_type": "markdown",
      "source": [
        "# 4. Training the Model"
      ],
      "metadata": {
        "id": "tf61Xtgsh460"
      }
    },
    {
      "cell_type": "code",
      "source": [],
      "metadata": {
        "id": "yk6lXiyYh6qG"
      },
      "execution_count": null,
      "outputs": []
    },
    {
      "cell_type": "markdown",
      "source": [
        "# 5. Evaluating accuracy"
      ],
      "metadata": {
        "id": "EFw0qK8hh7kk"
      }
    },
    {
      "cell_type": "code",
      "source": [],
      "metadata": {
        "id": "nWjxSU3qiT_D"
      },
      "execution_count": null,
      "outputs": []
    }
  ]
}